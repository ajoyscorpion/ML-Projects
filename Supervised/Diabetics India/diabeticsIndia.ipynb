{
 "cells": [
  {
   "cell_type": "code",
   "execution_count": 212,
   "metadata": {},
   "outputs": [],
   "source": [
    "import pandas as pd\n",
    "import numpy as np\n",
    "import seaborn as sns\n",
    "import matplotlib.pyplot as plt\n",
    "import warnings"
   ]
  },
  {
   "cell_type": "code",
   "execution_count": 213,
   "metadata": {},
   "outputs": [
    {
     "data": {
      "text/html": [
       "<div>\n",
       "<style scoped>\n",
       "    .dataframe tbody tr th:only-of-type {\n",
       "        vertical-align: middle;\n",
       "    }\n",
       "\n",
       "    .dataframe tbody tr th {\n",
       "        vertical-align: top;\n",
       "    }\n",
       "\n",
       "    .dataframe thead th {\n",
       "        text-align: right;\n",
       "    }\n",
       "</style>\n",
       "<table border=\"1\" class=\"dataframe\">\n",
       "  <thead>\n",
       "    <tr style=\"text-align: right;\">\n",
       "      <th></th>\n",
       "      <th>Age</th>\n",
       "      <th>Gender</th>\n",
       "      <th>BMI</th>\n",
       "      <th>Family_History</th>\n",
       "      <th>Physical_Activity</th>\n",
       "      <th>Diet_Type</th>\n",
       "      <th>Smoking_Status</th>\n",
       "      <th>Alcohol_Intake</th>\n",
       "      <th>Stress_Level</th>\n",
       "      <th>Hypertension</th>\n",
       "      <th>...</th>\n",
       "      <th>Health_Insurance</th>\n",
       "      <th>Regular_Checkups</th>\n",
       "      <th>Medication_For_Chronic_Conditions</th>\n",
       "      <th>Pregnancies</th>\n",
       "      <th>Polycystic_Ovary_Syndrome</th>\n",
       "      <th>Glucose_Tolerance_Test_Result</th>\n",
       "      <th>Vitamin_D_Level</th>\n",
       "      <th>C_Protein_Level</th>\n",
       "      <th>Thyroid_Condition</th>\n",
       "      <th>Diabetes_Status</th>\n",
       "    </tr>\n",
       "  </thead>\n",
       "  <tbody>\n",
       "    <tr>\n",
       "      <th>0</th>\n",
       "      <td>48</td>\n",
       "      <td>Male</td>\n",
       "      <td>35.5</td>\n",
       "      <td>No</td>\n",
       "      <td>High</td>\n",
       "      <td>Non-Vegetarian</td>\n",
       "      <td>Never</td>\n",
       "      <td>NaN</td>\n",
       "      <td>Medium</td>\n",
       "      <td>Yes</td>\n",
       "      <td>...</td>\n",
       "      <td>No</td>\n",
       "      <td>No</td>\n",
       "      <td>No</td>\n",
       "      <td>0</td>\n",
       "      <td>0</td>\n",
       "      <td>124.3</td>\n",
       "      <td>31.5</td>\n",
       "      <td>7.46</td>\n",
       "      <td>Yes</td>\n",
       "      <td>Yes</td>\n",
       "    </tr>\n",
       "    <tr>\n",
       "      <th>1</th>\n",
       "      <td>18</td>\n",
       "      <td>Other</td>\n",
       "      <td>28.7</td>\n",
       "      <td>Yes</td>\n",
       "      <td>Medium</td>\n",
       "      <td>Non-Vegetarian</td>\n",
       "      <td>Current</td>\n",
       "      <td>Moderate</td>\n",
       "      <td>High</td>\n",
       "      <td>No</td>\n",
       "      <td>...</td>\n",
       "      <td>Yes</td>\n",
       "      <td>Yes</td>\n",
       "      <td>No</td>\n",
       "      <td>0</td>\n",
       "      <td>0</td>\n",
       "      <td>151.4</td>\n",
       "      <td>12.5</td>\n",
       "      <td>5.64</td>\n",
       "      <td>Yes</td>\n",
       "      <td>No</td>\n",
       "    </tr>\n",
       "    <tr>\n",
       "      <th>2</th>\n",
       "      <td>21</td>\n",
       "      <td>Other</td>\n",
       "      <td>30.0</td>\n",
       "      <td>Yes</td>\n",
       "      <td>High</td>\n",
       "      <td>Non-Vegetarian</td>\n",
       "      <td>Current</td>\n",
       "      <td>Moderate</td>\n",
       "      <td>High</td>\n",
       "      <td>Yes</td>\n",
       "      <td>...</td>\n",
       "      <td>No</td>\n",
       "      <td>No</td>\n",
       "      <td>Yes</td>\n",
       "      <td>0</td>\n",
       "      <td>0</td>\n",
       "      <td>106.1</td>\n",
       "      <td>35.8</td>\n",
       "      <td>7.20</td>\n",
       "      <td>No</td>\n",
       "      <td>Yes</td>\n",
       "    </tr>\n",
       "    <tr>\n",
       "      <th>3</th>\n",
       "      <td>25</td>\n",
       "      <td>Female</td>\n",
       "      <td>25.6</td>\n",
       "      <td>No</td>\n",
       "      <td>Medium</td>\n",
       "      <td>Vegetarian</td>\n",
       "      <td>Former</td>\n",
       "      <td>Moderate</td>\n",
       "      <td>High</td>\n",
       "      <td>Yes</td>\n",
       "      <td>...</td>\n",
       "      <td>No</td>\n",
       "      <td>No</td>\n",
       "      <td>Yes</td>\n",
       "      <td>1</td>\n",
       "      <td>No</td>\n",
       "      <td>85.6</td>\n",
       "      <td>15.4</td>\n",
       "      <td>6.53</td>\n",
       "      <td>Yes</td>\n",
       "      <td>No</td>\n",
       "    </tr>\n",
       "    <tr>\n",
       "      <th>4</th>\n",
       "      <td>78</td>\n",
       "      <td>Male</td>\n",
       "      <td>38.8</td>\n",
       "      <td>No</td>\n",
       "      <td>High</td>\n",
       "      <td>Non-Vegetarian</td>\n",
       "      <td>Current</td>\n",
       "      <td>High</td>\n",
       "      <td>High</td>\n",
       "      <td>No</td>\n",
       "      <td>...</td>\n",
       "      <td>No</td>\n",
       "      <td>No</td>\n",
       "      <td>Yes</td>\n",
       "      <td>0</td>\n",
       "      <td>0</td>\n",
       "      <td>77.0</td>\n",
       "      <td>28.6</td>\n",
       "      <td>0.58</td>\n",
       "      <td>No</td>\n",
       "      <td>Yes</td>\n",
       "    </tr>\n",
       "  </tbody>\n",
       "</table>\n",
       "<p>5 rows × 27 columns</p>\n",
       "</div>"
      ],
      "text/plain": [
       "   Age  Gender   BMI Family_History Physical_Activity       Diet_Type  \\\n",
       "0   48    Male  35.5             No              High  Non-Vegetarian   \n",
       "1   18   Other  28.7            Yes            Medium  Non-Vegetarian   \n",
       "2   21   Other  30.0            Yes              High  Non-Vegetarian   \n",
       "3   25  Female  25.6             No            Medium      Vegetarian   \n",
       "4   78    Male  38.8             No              High  Non-Vegetarian   \n",
       "\n",
       "  Smoking_Status Alcohol_Intake Stress_Level Hypertension  ...  \\\n",
       "0          Never            NaN       Medium          Yes  ...   \n",
       "1        Current       Moderate         High           No  ...   \n",
       "2        Current       Moderate         High          Yes  ...   \n",
       "3         Former       Moderate         High          Yes  ...   \n",
       "4        Current           High         High           No  ...   \n",
       "\n",
       "   Health_Insurance  Regular_Checkups  Medication_For_Chronic_Conditions  \\\n",
       "0                No                No                                 No   \n",
       "1               Yes               Yes                                 No   \n",
       "2                No                No                                Yes   \n",
       "3                No                No                                Yes   \n",
       "4                No                No                                Yes   \n",
       "\n",
       "   Pregnancies  Polycystic_Ovary_Syndrome  Glucose_Tolerance_Test_Result  \\\n",
       "0            0                          0                          124.3   \n",
       "1            0                          0                          151.4   \n",
       "2            0                          0                          106.1   \n",
       "3            1                         No                           85.6   \n",
       "4            0                          0                           77.0   \n",
       "\n",
       "  Vitamin_D_Level C_Protein_Level Thyroid_Condition Diabetes_Status  \n",
       "0            31.5            7.46               Yes             Yes  \n",
       "1            12.5            5.64               Yes              No  \n",
       "2            35.8            7.20                No             Yes  \n",
       "3            15.4            6.53               Yes              No  \n",
       "4            28.6            0.58                No             Yes  \n",
       "\n",
       "[5 rows x 27 columns]"
      ]
     },
     "execution_count": 213,
     "metadata": {},
     "output_type": "execute_result"
    }
   ],
   "source": [
    "data = pd.read_csv(\"../Diabetics India/diabetes_prediction_india (1).csv\")\n",
    "data.head()"
   ]
  },
  {
   "cell_type": "code",
   "execution_count": 214,
   "metadata": {},
   "outputs": [
    {
     "data": {
      "text/plain": [
       "Index(['Age', 'Gender', 'BMI', 'Family_History', 'Physical_Activity',\n",
       "       'Diet_Type', 'Smoking_Status', 'Alcohol_Intake', 'Stress_Level',\n",
       "       'Hypertension', 'Cholesterol_Level', 'Fasting_Blood_Sugar',\n",
       "       'Postprandial_Blood_Sugar', 'HBA1C', 'Heart_Rate', 'Waist_Hip_Ratio',\n",
       "       'Urban_Rural', 'Health_Insurance', 'Regular_Checkups',\n",
       "       'Medication_For_Chronic_Conditions', 'Pregnancies',\n",
       "       'Polycystic_Ovary_Syndrome', 'Glucose_Tolerance_Test_Result',\n",
       "       'Vitamin_D_Level', 'C_Protein_Level', 'Thyroid_Condition',\n",
       "       'Diabetes_Status'],\n",
       "      dtype='object')"
      ]
     },
     "execution_count": 214,
     "metadata": {},
     "output_type": "execute_result"
    }
   ],
   "source": [
    "data.columns"
   ]
  },
  {
   "cell_type": "code",
   "execution_count": 215,
   "metadata": {},
   "outputs": [
    {
     "data": {
      "text/plain": [
       "Age                                    int64\n",
       "Gender                                object\n",
       "BMI                                  float64\n",
       "Family_History                        object\n",
       "Physical_Activity                     object\n",
       "Diet_Type                             object\n",
       "Smoking_Status                        object\n",
       "Alcohol_Intake                        object\n",
       "Stress_Level                          object\n",
       "Hypertension                          object\n",
       "Cholesterol_Level                    float64\n",
       "Fasting_Blood_Sugar                  float64\n",
       "Postprandial_Blood_Sugar             float64\n",
       "HBA1C                                float64\n",
       "Heart_Rate                             int64\n",
       "Waist_Hip_Ratio                      float64\n",
       "Urban_Rural                           object\n",
       "Health_Insurance                      object\n",
       "Regular_Checkups                      object\n",
       "Medication_For_Chronic_Conditions     object\n",
       "Pregnancies                            int64\n",
       "Polycystic_Ovary_Syndrome             object\n",
       "Glucose_Tolerance_Test_Result        float64\n",
       "Vitamin_D_Level                      float64\n",
       "C_Protein_Level                      float64\n",
       "Thyroid_Condition                     object\n",
       "Diabetes_Status                       object\n",
       "dtype: object"
      ]
     },
     "execution_count": 215,
     "metadata": {},
     "output_type": "execute_result"
    }
   ],
   "source": [
    "data.dtypes"
   ]
  },
  {
   "cell_type": "code",
   "execution_count": 216,
   "metadata": {},
   "outputs": [
    {
     "data": {
      "text/plain": [
       "(5292, 27)"
      ]
     },
     "execution_count": 216,
     "metadata": {},
     "output_type": "execute_result"
    }
   ],
   "source": [
    "data.shape"
   ]
  },
  {
   "cell_type": "code",
   "execution_count": 217,
   "metadata": {},
   "outputs": [
    {
     "data": {
      "text/plain": [
       "Age                                     0\n",
       "Gender                                  0\n",
       "BMI                                     0\n",
       "Family_History                          0\n",
       "Physical_Activity                       0\n",
       "Diet_Type                               0\n",
       "Smoking_Status                          0\n",
       "Alcohol_Intake                       1780\n",
       "Stress_Level                            0\n",
       "Hypertension                            0\n",
       "Cholesterol_Level                       0\n",
       "Fasting_Blood_Sugar                     0\n",
       "Postprandial_Blood_Sugar                0\n",
       "HBA1C                                   0\n",
       "Heart_Rate                              0\n",
       "Waist_Hip_Ratio                         0\n",
       "Urban_Rural                             0\n",
       "Health_Insurance                        0\n",
       "Regular_Checkups                        0\n",
       "Medication_For_Chronic_Conditions       0\n",
       "Pregnancies                             0\n",
       "Polycystic_Ovary_Syndrome               0\n",
       "Glucose_Tolerance_Test_Result           0\n",
       "Vitamin_D_Level                         0\n",
       "C_Protein_Level                         0\n",
       "Thyroid_Condition                       0\n",
       "Diabetes_Status                         0\n",
       "dtype: int64"
      ]
     },
     "execution_count": 217,
     "metadata": {},
     "output_type": "execute_result"
    }
   ],
   "source": [
    "data.isna().sum()"
   ]
  },
  {
   "cell_type": "code",
   "execution_count": 218,
   "metadata": {},
   "outputs": [
    {
     "data": {
      "text/plain": [
       "0"
      ]
     },
     "execution_count": 218,
     "metadata": {},
     "output_type": "execute_result"
    }
   ],
   "source": [
    "data.duplicated().sum()"
   ]
  },
  {
   "cell_type": "code",
   "execution_count": 219,
   "metadata": {},
   "outputs": [
    {
     "name": "stdout",
     "output_type": "stream",
     "text": [
      "Unique values in Gender: ['Male' 'Other' 'Female']\n",
      "Unique values in Family_History: ['No' 'Yes']\n",
      "Unique values in Physical_Activity: ['High' 'Medium' 'Low']\n",
      "Unique values in Diet_Type: ['Non-Vegetarian' 'Vegetarian' 'Vegan']\n",
      "Unique values in Smoking_Status: ['Never' 'Current' 'Former']\n",
      "Unique values in Alcohol_Intake: [nan 'Moderate' 'High']\n",
      "Unique values in Stress_Level: ['Medium' 'High' 'Low']\n",
      "Unique values in Hypertension: ['Yes' 'No']\n",
      "Unique values in Urban_Rural: ['Urban' 'Rural']\n",
      "Unique values in Health_Insurance: ['No' 'Yes']\n",
      "Unique values in Regular_Checkups: ['No' 'Yes']\n",
      "Unique values in Medication_For_Chronic_Conditions: ['No' 'Yes']\n",
      "Unique values in Polycystic_Ovary_Syndrome: ['0' 'No' 'Yes']\n",
      "Unique values in Thyroid_Condition: ['Yes' 'No']\n",
      "Unique values in Diabetes_Status: ['Yes' 'No']\n"
     ]
    }
   ],
   "source": [
    "for col in data.columns:\n",
    "    if data[col].dtypes == 'object':\n",
    "        print(f\"Unique values in {col}: {data[col].unique()}\")"
   ]
  },
  {
   "cell_type": "code",
   "execution_count": 220,
   "metadata": {},
   "outputs": [
    {
     "data": {
      "text/plain": [
       "array([nan, 'Moderate', 'High'], dtype=object)"
      ]
     },
     "execution_count": 220,
     "metadata": {},
     "output_type": "execute_result"
    }
   ],
   "source": [
    "data['Alcohol_Intake'].unique()"
   ]
  },
  {
   "cell_type": "code",
   "execution_count": 221,
   "metadata": {},
   "outputs": [
    {
     "data": {
      "text/plain": [
       "array(['None', 'Moderate', 'High'], dtype=object)"
      ]
     },
     "execution_count": 221,
     "metadata": {},
     "output_type": "execute_result"
    }
   ],
   "source": [
    "data['Alcohol_Intake']=data['Alcohol_Intake'].fillna('None')\n",
    "data['Alcohol_Intake'].unique()"
   ]
  },
  {
   "cell_type": "code",
   "execution_count": 222,
   "metadata": {},
   "outputs": [
    {
     "data": {
      "text/plain": [
       "Age                                  0\n",
       "Gender                               0\n",
       "BMI                                  0\n",
       "Family_History                       0\n",
       "Physical_Activity                    0\n",
       "Diet_Type                            0\n",
       "Smoking_Status                       0\n",
       "Alcohol_Intake                       0\n",
       "Stress_Level                         0\n",
       "Hypertension                         0\n",
       "Cholesterol_Level                    0\n",
       "Fasting_Blood_Sugar                  0\n",
       "Postprandial_Blood_Sugar             0\n",
       "HBA1C                                0\n",
       "Heart_Rate                           0\n",
       "Waist_Hip_Ratio                      0\n",
       "Urban_Rural                          0\n",
       "Health_Insurance                     0\n",
       "Regular_Checkups                     0\n",
       "Medication_For_Chronic_Conditions    0\n",
       "Pregnancies                          0\n",
       "Polycystic_Ovary_Syndrome            0\n",
       "Glucose_Tolerance_Test_Result        0\n",
       "Vitamin_D_Level                      0\n",
       "C_Protein_Level                      0\n",
       "Thyroid_Condition                    0\n",
       "Diabetes_Status                      0\n",
       "dtype: int64"
      ]
     },
     "execution_count": 222,
     "metadata": {},
     "output_type": "execute_result"
    }
   ],
   "source": [
    "data.isna().sum()"
   ]
  },
  {
   "cell_type": "code",
   "execution_count": 223,
   "metadata": {},
   "outputs": [
    {
     "data": {
      "text/html": [
       "<div>\n",
       "<style scoped>\n",
       "    .dataframe tbody tr th:only-of-type {\n",
       "        vertical-align: middle;\n",
       "    }\n",
       "\n",
       "    .dataframe tbody tr th {\n",
       "        vertical-align: top;\n",
       "    }\n",
       "\n",
       "    .dataframe thead th {\n",
       "        text-align: right;\n",
       "    }\n",
       "</style>\n",
       "<table border=\"1\" class=\"dataframe\">\n",
       "  <thead>\n",
       "    <tr style=\"text-align: right;\">\n",
       "      <th></th>\n",
       "      <th>Age</th>\n",
       "      <th>BMI</th>\n",
       "      <th>Cholesterol_Level</th>\n",
       "      <th>Fasting_Blood_Sugar</th>\n",
       "      <th>Postprandial_Blood_Sugar</th>\n",
       "      <th>HBA1C</th>\n",
       "      <th>Heart_Rate</th>\n",
       "      <th>Waist_Hip_Ratio</th>\n",
       "      <th>Pregnancies</th>\n",
       "      <th>Glucose_Tolerance_Test_Result</th>\n",
       "      <th>Vitamin_D_Level</th>\n",
       "      <th>C_Protein_Level</th>\n",
       "    </tr>\n",
       "  </thead>\n",
       "  <tbody>\n",
       "    <tr>\n",
       "      <th>0</th>\n",
       "      <td>48</td>\n",
       "      <td>35.5</td>\n",
       "      <td>111.7</td>\n",
       "      <td>141.0</td>\n",
       "      <td>165.6</td>\n",
       "      <td>8.9</td>\n",
       "      <td>94</td>\n",
       "      <td>0.91</td>\n",
       "      <td>0</td>\n",
       "      <td>124.3</td>\n",
       "      <td>31.5</td>\n",
       "      <td>7.46</td>\n",
       "    </tr>\n",
       "    <tr>\n",
       "      <th>1</th>\n",
       "      <td>18</td>\n",
       "      <td>28.7</td>\n",
       "      <td>130.6</td>\n",
       "      <td>83.1</td>\n",
       "      <td>142.6</td>\n",
       "      <td>5.9</td>\n",
       "      <td>68</td>\n",
       "      <td>0.96</td>\n",
       "      <td>0</td>\n",
       "      <td>151.4</td>\n",
       "      <td>12.5</td>\n",
       "      <td>5.64</td>\n",
       "    </tr>\n",
       "    <tr>\n",
       "      <th>2</th>\n",
       "      <td>21</td>\n",
       "      <td>30.0</td>\n",
       "      <td>294.8</td>\n",
       "      <td>159.9</td>\n",
       "      <td>212.4</td>\n",
       "      <td>4.8</td>\n",
       "      <td>70</td>\n",
       "      <td>0.88</td>\n",
       "      <td>0</td>\n",
       "      <td>106.1</td>\n",
       "      <td>35.8</td>\n",
       "      <td>7.20</td>\n",
       "    </tr>\n",
       "    <tr>\n",
       "      <th>3</th>\n",
       "      <td>25</td>\n",
       "      <td>25.6</td>\n",
       "      <td>159.1</td>\n",
       "      <td>133.3</td>\n",
       "      <td>225.4</td>\n",
       "      <td>11.9</td>\n",
       "      <td>78</td>\n",
       "      <td>0.98</td>\n",
       "      <td>1</td>\n",
       "      <td>85.6</td>\n",
       "      <td>15.4</td>\n",
       "      <td>6.53</td>\n",
       "    </tr>\n",
       "    <tr>\n",
       "      <th>4</th>\n",
       "      <td>78</td>\n",
       "      <td>38.8</td>\n",
       "      <td>215.0</td>\n",
       "      <td>164.9</td>\n",
       "      <td>218.1</td>\n",
       "      <td>11.6</td>\n",
       "      <td>65</td>\n",
       "      <td>0.85</td>\n",
       "      <td>0</td>\n",
       "      <td>77.0</td>\n",
       "      <td>28.6</td>\n",
       "      <td>0.58</td>\n",
       "    </tr>\n",
       "    <tr>\n",
       "      <th>...</th>\n",
       "      <td>...</td>\n",
       "      <td>...</td>\n",
       "      <td>...</td>\n",
       "      <td>...</td>\n",
       "      <td>...</td>\n",
       "      <td>...</td>\n",
       "      <td>...</td>\n",
       "      <td>...</td>\n",
       "      <td>...</td>\n",
       "      <td>...</td>\n",
       "      <td>...</td>\n",
       "      <td>...</td>\n",
       "    </tr>\n",
       "    <tr>\n",
       "      <th>5287</th>\n",
       "      <td>35</td>\n",
       "      <td>39.0</td>\n",
       "      <td>203.6</td>\n",
       "      <td>126.5</td>\n",
       "      <td>188.0</td>\n",
       "      <td>9.2</td>\n",
       "      <td>119</td>\n",
       "      <td>1.05</td>\n",
       "      <td>0</td>\n",
       "      <td>174.6</td>\n",
       "      <td>16.3</td>\n",
       "      <td>5.48</td>\n",
       "    </tr>\n",
       "    <tr>\n",
       "      <th>5288</th>\n",
       "      <td>44</td>\n",
       "      <td>32.0</td>\n",
       "      <td>214.8</td>\n",
       "      <td>162.6</td>\n",
       "      <td>127.1</td>\n",
       "      <td>7.5</td>\n",
       "      <td>108</td>\n",
       "      <td>0.92</td>\n",
       "      <td>0</td>\n",
       "      <td>119.3</td>\n",
       "      <td>32.4</td>\n",
       "      <td>7.39</td>\n",
       "    </tr>\n",
       "    <tr>\n",
       "      <th>5289</th>\n",
       "      <td>55</td>\n",
       "      <td>22.3</td>\n",
       "      <td>168.3</td>\n",
       "      <td>70.8</td>\n",
       "      <td>237.6</td>\n",
       "      <td>8.1</td>\n",
       "      <td>110</td>\n",
       "      <td>1.12</td>\n",
       "      <td>0</td>\n",
       "      <td>143.6</td>\n",
       "      <td>43.3</td>\n",
       "      <td>7.24</td>\n",
       "    </tr>\n",
       "    <tr>\n",
       "      <th>5290</th>\n",
       "      <td>65</td>\n",
       "      <td>21.7</td>\n",
       "      <td>275.1</td>\n",
       "      <td>169.9</td>\n",
       "      <td>198.4</td>\n",
       "      <td>10.6</td>\n",
       "      <td>114</td>\n",
       "      <td>0.92</td>\n",
       "      <td>0</td>\n",
       "      <td>79.8</td>\n",
       "      <td>22.2</td>\n",
       "      <td>4.00</td>\n",
       "    </tr>\n",
       "    <tr>\n",
       "      <th>5291</th>\n",
       "      <td>56</td>\n",
       "      <td>19.0</td>\n",
       "      <td>113.1</td>\n",
       "      <td>153.7</td>\n",
       "      <td>167.2</td>\n",
       "      <td>10.6</td>\n",
       "      <td>112</td>\n",
       "      <td>0.92</td>\n",
       "      <td>1</td>\n",
       "      <td>92.6</td>\n",
       "      <td>13.5</td>\n",
       "      <td>4.54</td>\n",
       "    </tr>\n",
       "  </tbody>\n",
       "</table>\n",
       "<p>5292 rows × 12 columns</p>\n",
       "</div>"
      ],
      "text/plain": [
       "      Age   BMI  Cholesterol_Level  Fasting_Blood_Sugar  \\\n",
       "0      48  35.5              111.7                141.0   \n",
       "1      18  28.7              130.6                 83.1   \n",
       "2      21  30.0              294.8                159.9   \n",
       "3      25  25.6              159.1                133.3   \n",
       "4      78  38.8              215.0                164.9   \n",
       "...   ...   ...                ...                  ...   \n",
       "5287   35  39.0              203.6                126.5   \n",
       "5288   44  32.0              214.8                162.6   \n",
       "5289   55  22.3              168.3                 70.8   \n",
       "5290   65  21.7              275.1                169.9   \n",
       "5291   56  19.0              113.1                153.7   \n",
       "\n",
       "      Postprandial_Blood_Sugar  HBA1C  Heart_Rate  Waist_Hip_Ratio  \\\n",
       "0                        165.6    8.9          94             0.91   \n",
       "1                        142.6    5.9          68             0.96   \n",
       "2                        212.4    4.8          70             0.88   \n",
       "3                        225.4   11.9          78             0.98   \n",
       "4                        218.1   11.6          65             0.85   \n",
       "...                        ...    ...         ...              ...   \n",
       "5287                     188.0    9.2         119             1.05   \n",
       "5288                     127.1    7.5         108             0.92   \n",
       "5289                     237.6    8.1         110             1.12   \n",
       "5290                     198.4   10.6         114             0.92   \n",
       "5291                     167.2   10.6         112             0.92   \n",
       "\n",
       "      Pregnancies  Glucose_Tolerance_Test_Result  Vitamin_D_Level  \\\n",
       "0               0                          124.3             31.5   \n",
       "1               0                          151.4             12.5   \n",
       "2               0                          106.1             35.8   \n",
       "3               1                           85.6             15.4   \n",
       "4               0                           77.0             28.6   \n",
       "...           ...                            ...              ...   \n",
       "5287            0                          174.6             16.3   \n",
       "5288            0                          119.3             32.4   \n",
       "5289            0                          143.6             43.3   \n",
       "5290            0                           79.8             22.2   \n",
       "5291            1                           92.6             13.5   \n",
       "\n",
       "      C_Protein_Level  \n",
       "0                7.46  \n",
       "1                5.64  \n",
       "2                7.20  \n",
       "3                6.53  \n",
       "4                0.58  \n",
       "...               ...  \n",
       "5287             5.48  \n",
       "5288             7.39  \n",
       "5289             7.24  \n",
       "5290             4.00  \n",
       "5291             4.54  \n",
       "\n",
       "[5292 rows x 12 columns]"
      ]
     },
     "execution_count": 223,
     "metadata": {},
     "output_type": "execute_result"
    }
   ],
   "source": [
    "numerical_cols = data.select_dtypes(include=['int64','float64'])\n",
    "numerical_cols"
   ]
  },
  {
   "cell_type": "code",
   "execution_count": 224,
   "metadata": {},
   "outputs": [
    {
     "name": "stderr",
     "output_type": "stream",
     "text": [
      "/Users/ajoy/Library/Python/3.9/lib/python/site-packages/seaborn/categorical.py:640: FutureWarning: SeriesGroupBy.grouper is deprecated and will be removed in a future version of pandas.\n",
      "  positions = grouped.grouper.result_index.to_numpy(dtype=float)\n"
     ]
    },
    {
     "data": {
      "image/png": "[encoded data removed]",
      "text/plain": [
       "<Figure size 800x600 with 1 Axes>"
      ]
     },
     "metadata": {},
     "output_type": "display_data"
    },
    {
     "name": "stderr",
     "output_type": "stream",
     "text": [
      "/Users/ajoy/Library/Python/3.9/lib/python/site-packages/seaborn/categorical.py:640: FutureWarning: SeriesGroupBy.grouper is deprecated and will be removed in a future version of pandas.\n",
      "  positions = grouped.grouper.result_index.to_numpy(dtype=float)\n"
     ]
    },
    {
     "data": {
      "image/png": "[encoded data removed]",
      "text/plain": [
       "<Figure size 800x600 with 1 Axes>"
      ]
     },
     "metadata": {},
     "output_type": "display_data"
    },
    {
     "name": "stderr",
     "output_type": "stream",
     "text": [
      "/Users/ajoy/Library/Python/3.9/lib/python/site-packages/seaborn/categorical.py:640: FutureWarning: SeriesGroupBy.grouper is deprecated and will be removed in a future version of pandas.\n",
      "  positions = grouped.grouper.result_index.to_numpy(dtype=float)\n"
     ]
    },
    {
     "data": {
      "image/png": "[encoded data removed]",
      "text/plain": [
       "<Figure size 800x600 with 1 Axes>"
      ]
     },
     "metadata": {},
     "output_type": "display_data"
    },
    {
     "name": "stderr",
     "output_type": "stream",
     "text": [
      "/Users/ajoy/Library/Python/3.9/lib/python/site-packages/seaborn/categorical.py:640: FutureWarning: SeriesGroupBy.grouper is deprecated and will be removed in a future version of pandas.\n",
      "  positions = grouped.grouper.result_index.to_numpy(dtype=float)\n"
     ]
    },
    {
     "data": {
      "image/png": "[encoded data removed]",
      "text/plain": [
       "<Figure size 800x600 with 1 Axes>"
      ]
     },
     "metadata": {},
     "output_type": "display_data"
    },
    {
     "name": "stderr",
     "output_type": "stream",
     "text": [
      "/Users/ajoy/Library/Python/3.9/lib/python/site-packages/seaborn/categorical.py:640: FutureWarning: SeriesGroupBy.grouper is deprecated and will be removed in a future version of pandas.\n",
      "  positions = grouped.grouper.result_index.to_numpy(dtype=float)\n"
     ]
    },
    {
     "data": {
      "image/png": "[encoded data removed]",
      "text/plain": [
       "<Figure size 800x600 with 1 Axes>"
      ]
     },
     "metadata": {},
     "output_type": "display_data"
    },
    {
     "name": "stderr",
     "output_type": "stream",
     "text": [
      "/Users/ajoy/Library/Python/3.9/lib/python/site-packages/seaborn/categorical.py:640: FutureWarning: SeriesGroupBy.grouper is deprecated and will be removed in a future version of pandas.\n",
      "  positions = grouped.grouper.result_index.to_numpy(dtype=float)\n"
     ]
    },
    {
     "data": {
      "image/png": "[encoded data removed]",
      "text/plain": [
       "<Figure size 800x600 with 1 Axes>"
      ]
     },
     "metadata": {},
     "output_type": "display_data"
    },
    {
     "name": "stderr",
     "output_type": "stream",
     "text": [
      "/Users/ajoy/Library/Python/3.9/lib/python/site-packages/seaborn/categorical.py:640: FutureWarning: SeriesGroupBy.grouper is deprecated and will be removed in a future version of pandas.\n",
      "  positions = grouped.grouper.result_index.to_numpy(dtype=float)\n"
     ]
    },
    {
     "data": {
      "image/png": "[encoded data removed]",
      "text/plain": [
       "<Figure size 800x600 with 1 Axes>"
      ]
     },
     "metadata": {},
     "output_type": "display_data"
    },
    {
     "name": "stderr",
     "output_type": "stream",
     "text": [
      "/Users/ajoy/Library/Python/3.9/lib/python/site-packages/seaborn/categorical.py:640: FutureWarning: SeriesGroupBy.grouper is deprecated and will be removed in a future version of pandas.\n",
      "  positions = grouped.grouper.result_index.to_numpy(dtype=float)\n"
     ]
    },
    {
     "data": {
      "image/png": "[encoded data removed]",
      "text/plain": [
       "<Figure size 800x600 with 1 Axes>"
      ]
     },
     "metadata": {},
     "output_type": "display_data"
    },
    {
     "name": "stderr",
     "output_type": "stream",
     "text": [
      "/Users/ajoy/Library/Python/3.9/lib/python/site-packages/seaborn/categorical.py:640: FutureWarning: SeriesGroupBy.grouper is deprecated and will be removed in a future version of pandas.\n",
      "  positions = grouped.grouper.result_index.to_numpy(dtype=float)\n"
     ]
    },
    {
     "data": {
      "image/png": "[encoded data removed]",
      "text/plain": [
       "<Figure size 800x600 with 1 Axes>"
      ]
     },
     "metadata": {},
     "output_type": "display_data"
    },
    {
     "name": "stderr",
     "output_type": "stream",
     "text": [
      "/Users/ajoy/Library/Python/3.9/lib/python/site-packages/seaborn/categorical.py:640: FutureWarning: SeriesGroupBy.grouper is deprecated and will be removed in a future version of pandas.\n",
      "  positions = grouped.grouper.result_index.to_numpy(dtype=float)\n"
     ]
    },
    {
     "data": {
      "image/png": "[encoded data removed]",
      "text/plain": [
       "<Figure size 800x600 with 1 Axes>"
      ]
     },
     "metadata": {},
     "output_type": "display_data"
    },
    {
     "name": "stderr",
     "output_type": "stream",
     "text": [
      "/Users/ajoy/Library/Python/3.9/lib/python/site-packages/seaborn/categorical.py:640: FutureWarning: SeriesGroupBy.grouper is deprecated and will be removed in a future version of pandas.\n",
      "  positions = grouped.grouper.result_index.to_numpy(dtype=float)\n"
     ]
    },
    {
     "data": {
      "image/png": "[encoded data removed]",
      "text/plain": [
       "<Figure size 800x600 with 1 Axes>"
      ]
     },
     "metadata": {},
     "output_type": "display_data"
    },
    {
     "name": "stderr",
     "output_type": "stream",
     "text": [
      "/Users/ajoy/Library/Python/3.9/lib/python/site-packages/seaborn/categorical.py:640: FutureWarning: SeriesGroupBy.grouper is deprecated and will be removed in a future version of pandas.\n",
      "  positions = grouped.grouper.result_index.to_numpy(dtype=float)\n"
     ]
    },
    {
     "data": {
      "image/png": "[encoded data removed]",
      "text/plain": [
       "<Figure size 800x600 with 1 Axes>"
      ]
     },
     "metadata": {},
     "output_type": "display_data"
    }
   ],
   "source": [
    "for col in numerical_cols:\n",
    "    plt.figure(figsize=(8,6))\n",
    "    sns.boxplot(x=data[col])\n",
    "    plt.title(f'Boxplot for {col}')\n",
    "    plt.show()"
   ]
  },
  {
   "cell_type": "code",
   "execution_count": 225,
   "metadata": {},
   "outputs": [],
   "source": [
    "for col in numerical_cols:\n",
    "    Q1 = data[col].quantile(0.25)\n",
    "    Q3 = data[col].quantile(0.75)\n",
    "    IQR = Q3 - Q1\n",
    "    lower_bound = Q1 - 1.5 * IQR\n",
    "    upper_bound = Q3 + 1.5 * IQR\n",
    "    data[col] = data[col].clip(lower=lower_bound,upper=upper_bound)"
   ]
  },
  {
   "cell_type": "code",
   "execution_count": 226,
   "metadata": {},
   "outputs": [
    {
     "name": "stderr",
     "output_type": "stream",
     "text": [
      "/Users/ajoy/Library/Python/3.9/lib/python/site-packages/seaborn/categorical.py:640: FutureWarning: SeriesGroupBy.grouper is deprecated and will be removed in a future version of pandas.\n",
      "  positions = grouped.grouper.result_index.to_numpy(dtype=float)\n"
     ]
    },
    {
     "data": {
      "image/png": "[encoded data removed]",
      "text/plain": [
       "<Figure size 800x600 with 1 Axes>"
      ]
     },
     "metadata": {},
     "output_type": "display_data"
    }
   ],
   "source": [
    "\n",
    "plt.figure(figsize=(8,6))\n",
    "sns.boxplot(x=data['Pregnancies'])\n",
    "plt.title(f'Boxplot for {col}')\n",
    "plt.show()"
   ]
  },
  {
   "cell_type": "code",
   "execution_count": 227,
   "metadata": {},
   "outputs": [],
   "source": [
    "ordinal_features = {\n",
    "    \"Physical_Activity\": [\"Low\", \"Medium\", \"High\"],\n",
    "    \"Stress_Level\": [\"Low\", \"Medium\", \"High\"],\n",
    "    \"Smoking_Status\": [\"Never\", \"Former\", \"Current\"]\n",
    "}"
   ]
  },
  {
   "cell_type": "code",
   "execution_count": 228,
   "metadata": {},
   "outputs": [],
   "source": [
    "from sklearn.preprocessing import LabelEncoder,OneHotEncoder"
   ]
  },
  {
   "cell_type": "code",
   "execution_count": 229,
   "metadata": {},
   "outputs": [
    {
     "data": {
      "text/plain": [
       "0       0\n",
       "1       2\n",
       "2       0\n",
       "3       2\n",
       "4       0\n",
       "       ..\n",
       "5287    0\n",
       "5288    1\n",
       "5289    0\n",
       "5290    0\n",
       "5291    1\n",
       "Name: Physical_Activity, Length: 5292, dtype: int64"
      ]
     },
     "execution_count": 229,
     "metadata": {},
     "output_type": "execute_result"
    }
   ],
   "source": [
    "\n",
    "le = LabelEncoder()\n",
    "for feature, categories in ordinal_features.items():\n",
    "    data[feature] = le.fit_transform(data[feature].astype(str))\n",
    "data[\"Physical_Activity\"]"
   ]
  },
  {
   "cell_type": "code",
   "execution_count": 230,
   "metadata": {},
   "outputs": [],
   "source": [
    "nominal_features = [\n",
    "    \"Gender\", \"Family_History\", \"Diet_Type\", \"Urban_Rural\",\n",
    "    \"Health_Insurance\", \"Regular_Checkups\",\n",
    "    \"Medication_For_Chronic_Conditions\", \"Thyroid_Condition\",\"Alcohol_Intake\",\"Hypertension\"\n",
    "]"
   ]
  },
  {
   "cell_type": "code",
   "execution_count": 231,
   "metadata": {},
   "outputs": [],
   "source": [
    "data = pd.get_dummies(data, columns=nominal_features, drop_first=True)"
   ]
  },
  {
   "cell_type": "code",
   "execution_count": 232,
   "metadata": {},
   "outputs": [
    {
     "name": "stderr",
     "output_type": "stream",
     "text": [
      "/var/folders/91/b90q2v1562j91y7jmf1jkdm40000gn/T/ipykernel_80136/2700436398.py:1: FutureWarning: Downcasting behavior in `replace` is deprecated and will be removed in a future version. To retain the old behavior, explicitly call `result.infer_objects(copy=False)`. To opt-in to the future behavior, set `pd.set_option('future.no_silent_downcasting', True)`\n",
      "  data[\"Diabetes_Status\"] = data[\"Diabetes_Status\"].replace({'Yes':1,'No':0})\n"
     ]
    }
   ],
   "source": [
    "data[\"Diabetes_Status\"] = data[\"Diabetes_Status\"].replace({'Yes':1,'No':0})\n",
    "data[\"Polycystic_Ovary_Syndrome\"] = data[\"Polycystic_Ovary_Syndrome\"].replace({'No': 0, 'Yes': 1}).astype(int)"
   ]
  },
  {
   "cell_type": "code",
   "execution_count": 233,
   "metadata": {},
   "outputs": [
    {
     "data": {
      "text/plain": [
       "Age                                        int64\n",
       "BMI                                      float64\n",
       "Physical_Activity                          int64\n",
       "Smoking_Status                             int64\n",
       "Stress_Level                               int64\n",
       "Cholesterol_Level                        float64\n",
       "Fasting_Blood_Sugar                      float64\n",
       "Postprandial_Blood_Sugar                 float64\n",
       "HBA1C                                    float64\n",
       "Heart_Rate                                 int64\n",
       "Waist_Hip_Ratio                          float64\n",
       "Pregnancies                                int64\n",
       "Polycystic_Ovary_Syndrome                  int64\n",
       "Glucose_Tolerance_Test_Result            float64\n",
       "Vitamin_D_Level                          float64\n",
       "C_Protein_Level                          float64\n",
       "Diabetes_Status                            int64\n",
       "Gender_Male                                 bool\n",
       "Gender_Other                                bool\n",
       "Family_History_Yes                          bool\n",
       "Diet_Type_Vegan                             bool\n",
       "Diet_Type_Vegetarian                        bool\n",
       "Urban_Rural_Urban                           bool\n",
       "Health_Insurance_Yes                        bool\n",
       "Regular_Checkups_Yes                        bool\n",
       "Medication_For_Chronic_Conditions_Yes       bool\n",
       "Thyroid_Condition_Yes                       bool\n",
       "Alcohol_Intake_Moderate                     bool\n",
       "Alcohol_Intake_None                         bool\n",
       "Hypertension_Yes                            bool\n",
       "dtype: object"
      ]
     },
     "execution_count": 233,
     "metadata": {},
     "output_type": "execute_result"
    }
   ],
   "source": [
    "data.dtypes"
   ]
  },
  {
   "cell_type": "code",
   "execution_count": 234,
   "metadata": {},
   "outputs": [
    {
     "data": {
      "text/html": [
       "<div>\n",
       "<style scoped>\n",
       "    .dataframe tbody tr th:only-of-type {\n",
       "        vertical-align: middle;\n",
       "    }\n",
       "\n",
       "    .dataframe tbody tr th {\n",
       "        vertical-align: top;\n",
       "    }\n",
       "\n",
       "    .dataframe thead th {\n",
       "        text-align: right;\n",
       "    }\n",
       "</style>\n",
       "<table border=\"1\" class=\"dataframe\">\n",
       "  <thead>\n",
       "    <tr style=\"text-align: right;\">\n",
       "      <th></th>\n",
       "      <th>Age</th>\n",
       "      <th>BMI</th>\n",
       "      <th>Physical_Activity</th>\n",
       "      <th>Smoking_Status</th>\n",
       "      <th>Stress_Level</th>\n",
       "      <th>Cholesterol_Level</th>\n",
       "      <th>Fasting_Blood_Sugar</th>\n",
       "      <th>Postprandial_Blood_Sugar</th>\n",
       "      <th>HBA1C</th>\n",
       "      <th>Heart_Rate</th>\n",
       "      <th>...</th>\n",
       "      <th>Diet_Type_Vegan</th>\n",
       "      <th>Diet_Type_Vegetarian</th>\n",
       "      <th>Urban_Rural_Urban</th>\n",
       "      <th>Health_Insurance_Yes</th>\n",
       "      <th>Regular_Checkups_Yes</th>\n",
       "      <th>Medication_For_Chronic_Conditions_Yes</th>\n",
       "      <th>Thyroid_Condition_Yes</th>\n",
       "      <th>Alcohol_Intake_Moderate</th>\n",
       "      <th>Alcohol_Intake_None</th>\n",
       "      <th>Hypertension_Yes</th>\n",
       "    </tr>\n",
       "  </thead>\n",
       "  <tbody>\n",
       "    <tr>\n",
       "      <th>0</th>\n",
       "      <td>48</td>\n",
       "      <td>35.5</td>\n",
       "      <td>0</td>\n",
       "      <td>2</td>\n",
       "      <td>2</td>\n",
       "      <td>111.7</td>\n",
       "      <td>141.0</td>\n",
       "      <td>165.6</td>\n",
       "      <td>8.9</td>\n",
       "      <td>94</td>\n",
       "      <td>...</td>\n",
       "      <td>False</td>\n",
       "      <td>False</td>\n",
       "      <td>True</td>\n",
       "      <td>False</td>\n",
       "      <td>False</td>\n",
       "      <td>False</td>\n",
       "      <td>True</td>\n",
       "      <td>False</td>\n",
       "      <td>True</td>\n",
       "      <td>True</td>\n",
       "    </tr>\n",
       "    <tr>\n",
       "      <th>1</th>\n",
       "      <td>18</td>\n",
       "      <td>28.7</td>\n",
       "      <td>2</td>\n",
       "      <td>0</td>\n",
       "      <td>0</td>\n",
       "      <td>130.6</td>\n",
       "      <td>83.1</td>\n",
       "      <td>142.6</td>\n",
       "      <td>5.9</td>\n",
       "      <td>68</td>\n",
       "      <td>...</td>\n",
       "      <td>False</td>\n",
       "      <td>False</td>\n",
       "      <td>False</td>\n",
       "      <td>True</td>\n",
       "      <td>True</td>\n",
       "      <td>False</td>\n",
       "      <td>True</td>\n",
       "      <td>True</td>\n",
       "      <td>False</td>\n",
       "      <td>False</td>\n",
       "    </tr>\n",
       "    <tr>\n",
       "      <th>2</th>\n",
       "      <td>21</td>\n",
       "      <td>30.0</td>\n",
       "      <td>0</td>\n",
       "      <td>0</td>\n",
       "      <td>0</td>\n",
       "      <td>294.8</td>\n",
       "      <td>159.9</td>\n",
       "      <td>212.4</td>\n",
       "      <td>4.8</td>\n",
       "      <td>70</td>\n",
       "      <td>...</td>\n",
       "      <td>False</td>\n",
       "      <td>False</td>\n",
       "      <td>False</td>\n",
       "      <td>False</td>\n",
       "      <td>False</td>\n",
       "      <td>True</td>\n",
       "      <td>False</td>\n",
       "      <td>True</td>\n",
       "      <td>False</td>\n",
       "      <td>True</td>\n",
       "    </tr>\n",
       "    <tr>\n",
       "      <th>3</th>\n",
       "      <td>25</td>\n",
       "      <td>25.6</td>\n",
       "      <td>2</td>\n",
       "      <td>1</td>\n",
       "      <td>0</td>\n",
       "      <td>159.1</td>\n",
       "      <td>133.3</td>\n",
       "      <td>225.4</td>\n",
       "      <td>11.9</td>\n",
       "      <td>78</td>\n",
       "      <td>...</td>\n",
       "      <td>False</td>\n",
       "      <td>True</td>\n",
       "      <td>False</td>\n",
       "      <td>False</td>\n",
       "      <td>False</td>\n",
       "      <td>True</td>\n",
       "      <td>True</td>\n",
       "      <td>True</td>\n",
       "      <td>False</td>\n",
       "      <td>True</td>\n",
       "    </tr>\n",
       "    <tr>\n",
       "      <th>4</th>\n",
       "      <td>78</td>\n",
       "      <td>38.8</td>\n",
       "      <td>0</td>\n",
       "      <td>0</td>\n",
       "      <td>0</td>\n",
       "      <td>215.0</td>\n",
       "      <td>164.9</td>\n",
       "      <td>218.1</td>\n",
       "      <td>11.6</td>\n",
       "      <td>65</td>\n",
       "      <td>...</td>\n",
       "      <td>False</td>\n",
       "      <td>False</td>\n",
       "      <td>True</td>\n",
       "      <td>False</td>\n",
       "      <td>False</td>\n",
       "      <td>True</td>\n",
       "      <td>False</td>\n",
       "      <td>False</td>\n",
       "      <td>False</td>\n",
       "      <td>False</td>\n",
       "    </tr>\n",
       "    <tr>\n",
       "      <th>...</th>\n",
       "      <td>...</td>\n",
       "      <td>...</td>\n",
       "      <td>...</td>\n",
       "      <td>...</td>\n",
       "      <td>...</td>\n",
       "      <td>...</td>\n",
       "      <td>...</td>\n",
       "      <td>...</td>\n",
       "      <td>...</td>\n",
       "      <td>...</td>\n",
       "      <td>...</td>\n",
       "      <td>...</td>\n",
       "      <td>...</td>\n",
       "      <td>...</td>\n",
       "      <td>...</td>\n",
       "      <td>...</td>\n",
       "      <td>...</td>\n",
       "      <td>...</td>\n",
       "      <td>...</td>\n",
       "      <td>...</td>\n",
       "      <td>...</td>\n",
       "    </tr>\n",
       "    <tr>\n",
       "      <th>5287</th>\n",
       "      <td>35</td>\n",
       "      <td>39.0</td>\n",
       "      <td>0</td>\n",
       "      <td>2</td>\n",
       "      <td>1</td>\n",
       "      <td>203.6</td>\n",
       "      <td>126.5</td>\n",
       "      <td>188.0</td>\n",
       "      <td>9.2</td>\n",
       "      <td>119</td>\n",
       "      <td>...</td>\n",
       "      <td>True</td>\n",
       "      <td>False</td>\n",
       "      <td>False</td>\n",
       "      <td>True</td>\n",
       "      <td>False</td>\n",
       "      <td>True</td>\n",
       "      <td>True</td>\n",
       "      <td>True</td>\n",
       "      <td>False</td>\n",
       "      <td>True</td>\n",
       "    </tr>\n",
       "    <tr>\n",
       "      <th>5288</th>\n",
       "      <td>44</td>\n",
       "      <td>32.0</td>\n",
       "      <td>1</td>\n",
       "      <td>2</td>\n",
       "      <td>0</td>\n",
       "      <td>214.8</td>\n",
       "      <td>162.6</td>\n",
       "      <td>127.1</td>\n",
       "      <td>7.5</td>\n",
       "      <td>108</td>\n",
       "      <td>...</td>\n",
       "      <td>False</td>\n",
       "      <td>True</td>\n",
       "      <td>True</td>\n",
       "      <td>True</td>\n",
       "      <td>True</td>\n",
       "      <td>False</td>\n",
       "      <td>True</td>\n",
       "      <td>True</td>\n",
       "      <td>False</td>\n",
       "      <td>True</td>\n",
       "    </tr>\n",
       "    <tr>\n",
       "      <th>5289</th>\n",
       "      <td>55</td>\n",
       "      <td>22.3</td>\n",
       "      <td>0</td>\n",
       "      <td>0</td>\n",
       "      <td>1</td>\n",
       "      <td>168.3</td>\n",
       "      <td>70.8</td>\n",
       "      <td>237.6</td>\n",
       "      <td>8.1</td>\n",
       "      <td>110</td>\n",
       "      <td>...</td>\n",
       "      <td>False</td>\n",
       "      <td>False</td>\n",
       "      <td>True</td>\n",
       "      <td>False</td>\n",
       "      <td>False</td>\n",
       "      <td>True</td>\n",
       "      <td>True</td>\n",
       "      <td>False</td>\n",
       "      <td>True</td>\n",
       "      <td>True</td>\n",
       "    </tr>\n",
       "    <tr>\n",
       "      <th>5290</th>\n",
       "      <td>65</td>\n",
       "      <td>21.7</td>\n",
       "      <td>0</td>\n",
       "      <td>1</td>\n",
       "      <td>1</td>\n",
       "      <td>275.1</td>\n",
       "      <td>169.9</td>\n",
       "      <td>198.4</td>\n",
       "      <td>10.6</td>\n",
       "      <td>114</td>\n",
       "      <td>...</td>\n",
       "      <td>False</td>\n",
       "      <td>False</td>\n",
       "      <td>False</td>\n",
       "      <td>False</td>\n",
       "      <td>False</td>\n",
       "      <td>True</td>\n",
       "      <td>False</td>\n",
       "      <td>False</td>\n",
       "      <td>True</td>\n",
       "      <td>True</td>\n",
       "    </tr>\n",
       "    <tr>\n",
       "      <th>5291</th>\n",
       "      <td>56</td>\n",
       "      <td>19.0</td>\n",
       "      <td>1</td>\n",
       "      <td>2</td>\n",
       "      <td>2</td>\n",
       "      <td>113.1</td>\n",
       "      <td>153.7</td>\n",
       "      <td>167.2</td>\n",
       "      <td>10.6</td>\n",
       "      <td>112</td>\n",
       "      <td>...</td>\n",
       "      <td>False</td>\n",
       "      <td>False</td>\n",
       "      <td>False</td>\n",
       "      <td>True</td>\n",
       "      <td>True</td>\n",
       "      <td>True</td>\n",
       "      <td>True</td>\n",
       "      <td>False</td>\n",
       "      <td>False</td>\n",
       "      <td>True</td>\n",
       "    </tr>\n",
       "  </tbody>\n",
       "</table>\n",
       "<p>5292 rows × 29 columns</p>\n",
       "</div>"
      ],
      "text/plain": [
       "      Age   BMI  Physical_Activity  Smoking_Status  Stress_Level  \\\n",
       "0      48  35.5                  0               2             2   \n",
       "1      18  28.7                  2               0             0   \n",
       "2      21  30.0                  0               0             0   \n",
       "3      25  25.6                  2               1             0   \n",
       "4      78  38.8                  0               0             0   \n",
       "...   ...   ...                ...             ...           ...   \n",
       "5287   35  39.0                  0               2             1   \n",
       "5288   44  32.0                  1               2             0   \n",
       "5289   55  22.3                  0               0             1   \n",
       "5290   65  21.7                  0               1             1   \n",
       "5291   56  19.0                  1               2             2   \n",
       "\n",
       "      Cholesterol_Level  Fasting_Blood_Sugar  Postprandial_Blood_Sugar  HBA1C  \\\n",
       "0                 111.7                141.0                     165.6    8.9   \n",
       "1                 130.6                 83.1                     142.6    5.9   \n",
       "2                 294.8                159.9                     212.4    4.8   \n",
       "3                 159.1                133.3                     225.4   11.9   \n",
       "4                 215.0                164.9                     218.1   11.6   \n",
       "...                 ...                  ...                       ...    ...   \n",
       "5287              203.6                126.5                     188.0    9.2   \n",
       "5288              214.8                162.6                     127.1    7.5   \n",
       "5289              168.3                 70.8                     237.6    8.1   \n",
       "5290              275.1                169.9                     198.4   10.6   \n",
       "5291              113.1                153.7                     167.2   10.6   \n",
       "\n",
       "      Heart_Rate  ...  Diet_Type_Vegan  Diet_Type_Vegetarian  \\\n",
       "0             94  ...            False                 False   \n",
       "1             68  ...            False                 False   \n",
       "2             70  ...            False                 False   \n",
       "3             78  ...            False                  True   \n",
       "4             65  ...            False                 False   \n",
       "...          ...  ...              ...                   ...   \n",
       "5287         119  ...             True                 False   \n",
       "5288         108  ...            False                  True   \n",
       "5289         110  ...            False                 False   \n",
       "5290         114  ...            False                 False   \n",
       "5291         112  ...            False                 False   \n",
       "\n",
       "      Urban_Rural_Urban  Health_Insurance_Yes  Regular_Checkups_Yes  \\\n",
       "0                  True                 False                 False   \n",
       "1                 False                  True                  True   \n",
       "2                 False                 False                 False   \n",
       "3                 False                 False                 False   \n",
       "4                  True                 False                 False   \n",
       "...                 ...                   ...                   ...   \n",
       "5287              False                  True                 False   \n",
       "5288               True                  True                  True   \n",
       "5289               True                 False                 False   \n",
       "5290              False                 False                 False   \n",
       "5291              False                  True                  True   \n",
       "\n",
       "      Medication_For_Chronic_Conditions_Yes  Thyroid_Condition_Yes  \\\n",
       "0                                     False                   True   \n",
       "1                                     False                   True   \n",
       "2                                      True                  False   \n",
       "3                                      True                   True   \n",
       "4                                      True                  False   \n",
       "...                                     ...                    ...   \n",
       "5287                                   True                   True   \n",
       "5288                                  False                   True   \n",
       "5289                                   True                   True   \n",
       "5290                                   True                  False   \n",
       "5291                                   True                   True   \n",
       "\n",
       "      Alcohol_Intake_Moderate  Alcohol_Intake_None  Hypertension_Yes  \n",
       "0                       False                 True              True  \n",
       "1                        True                False             False  \n",
       "2                        True                False              True  \n",
       "3                        True                False              True  \n",
       "4                       False                False             False  \n",
       "...                       ...                  ...               ...  \n",
       "5287                     True                False              True  \n",
       "5288                     True                False              True  \n",
       "5289                    False                 True              True  \n",
       "5290                    False                 True              True  \n",
       "5291                    False                False              True  \n",
       "\n",
       "[5292 rows x 29 columns]"
      ]
     },
     "execution_count": 234,
     "metadata": {},
     "output_type": "execute_result"
    }
   ],
   "source": [
    "x = data.drop('Diabetes_Status',axis=1)\n",
    "x"
   ]
  },
  {
   "cell_type": "code",
   "execution_count": 235,
   "metadata": {},
   "outputs": [
    {
     "data": {
      "text/plain": [
       "Age                                        int64\n",
       "BMI                                      float64\n",
       "Physical_Activity                          int64\n",
       "Smoking_Status                             int64\n",
       "Stress_Level                               int64\n",
       "Cholesterol_Level                        float64\n",
       "Fasting_Blood_Sugar                      float64\n",
       "Postprandial_Blood_Sugar                 float64\n",
       "HBA1C                                    float64\n",
       "Heart_Rate                                 int64\n",
       "Waist_Hip_Ratio                          float64\n",
       "Pregnancies                                int64\n",
       "Polycystic_Ovary_Syndrome                  int64\n",
       "Glucose_Tolerance_Test_Result            float64\n",
       "Vitamin_D_Level                          float64\n",
       "C_Protein_Level                          float64\n",
       "Gender_Male                                 bool\n",
       "Gender_Other                                bool\n",
       "Family_History_Yes                          bool\n",
       "Diet_Type_Vegan                             bool\n",
       "Diet_Type_Vegetarian                        bool\n",
       "Urban_Rural_Urban                           bool\n",
       "Health_Insurance_Yes                        bool\n",
       "Regular_Checkups_Yes                        bool\n",
       "Medication_For_Chronic_Conditions_Yes       bool\n",
       "Thyroid_Condition_Yes                       bool\n",
       "Alcohol_Intake_Moderate                     bool\n",
       "Alcohol_Intake_None                         bool\n",
       "Hypertension_Yes                            bool\n",
       "dtype: object"
      ]
     },
     "execution_count": 235,
     "metadata": {},
     "output_type": "execute_result"
    }
   ],
   "source": [
    "x.dtypes"
   ]
  },
  {
   "cell_type": "code",
   "execution_count": 236,
   "metadata": {},
   "outputs": [
    {
     "data": {
      "text/plain": [
       "0       1\n",
       "1       0\n",
       "2       1\n",
       "3       0\n",
       "4       1\n",
       "       ..\n",
       "5287    0\n",
       "5288    1\n",
       "5289    1\n",
       "5290    1\n",
       "5291    1\n",
       "Name: Diabetes_Status, Length: 5292, dtype: int64"
      ]
     },
     "execution_count": 236,
     "metadata": {},
     "output_type": "execute_result"
    }
   ],
   "source": [
    "y = data['Diabetes_Status']\n",
    "y"
   ]
  },
  {
   "cell_type": "code",
   "execution_count": 237,
   "metadata": {},
   "outputs": [
    {
     "data": {
      "text/plain": [
       "dtype('int64')"
      ]
     },
     "execution_count": 237,
     "metadata": {},
     "output_type": "execute_result"
    }
   ],
   "source": [
    "y.dtypes"
   ]
  },
  {
   "cell_type": "code",
   "execution_count": 238,
   "metadata": {},
   "outputs": [],
   "source": [
    "from sklearn.model_selection import train_test_split"
   ]
  },
  {
   "cell_type": "code",
   "execution_count": 239,
   "metadata": {},
   "outputs": [],
   "source": [
    "X_train, X_test, y_train, y_test = train_test_split(x, y, test_size = 0.30, random_state = 0)"
   ]
  },
  {
   "cell_type": "code",
   "execution_count": 240,
   "metadata": {},
   "outputs": [],
   "source": [
    "from sklearn.ensemble import RandomForestClassifier,AdaBoostClassifier,GradientBoostingClassifier\n",
    "from sklearn.linear_model import LogisticRegression\n",
    "from sklearn.svm import SVC\n",
    "from sklearn.neighbors import KNeighborsClassifier\n",
    "from sklearn.naive_bayes import GaussianNB\n",
    "from sklearn.tree import DecisionTreeClassifier\n",
    "from sklearn.metrics import accuracy_score,classification_report,confusion_matrix"
   ]
  },
  {
   "cell_type": "code",
   "execution_count": 241,
   "metadata": {},
   "outputs": [],
   "source": [
    "# classifiers = {\n",
    "#     'Random Forest Classifier':RandomForestClassifier(n_estimators=47,random_state=34),\n",
    "#     'Logistic Regression' : LogisticRegression(random_state=42),\n",
    "#     'SVM':SVC(kernel='linear'),\n",
    "#     'KNN':KNeighborsClassifier(n_neighbors=5),\n",
    "#     'Naive Bayes':GaussianNB(),\n",
    "#     'Decision tree' : DecisionTreeClassifier(random_state=42,max_depth=5),\n",
    "#     'Gradient Boosting':GradientBoostingClassifier(n_estimators=600,learning_rate=0.05,random_state=42),\n",
    "#     'AdaBoost':AdaBoostClassifier(n_estimators=50,random_state=42,learning_rate=0.3),\n",
    "# }"
   ]
  },
  {
   "cell_type": "code",
   "execution_count": 242,
   "metadata": {},
   "outputs": [],
   "source": [
    "classifiers = {\n",
    "    'Random Forest Classifier': RandomForestClassifier(\n",
    "        n_estimators=100, max_depth=10, min_samples_split=5, random_state=42\n",
    "    ),\n",
    "    \n",
    "    'Logistic Regression': LogisticRegression(\n",
    "        solver='liblinear', C=1.0, random_state=42\n",
    "    ),\n",
    "    \n",
    "    'SVM': SVC(\n",
    "        kernel='rbf', C=1.0, gamma='scale', probability=True\n",
    "    ),\n",
    "    \n",
    "    'KNN': KNeighborsClassifier(\n",
    "        n_neighbors=7, metric='minkowski', p=2\n",
    "    ),\n",
    "    \n",
    "    'Naive Bayes': GaussianNB(),\n",
    "    \n",
    "    'Decision Tree': DecisionTreeClassifier(\n",
    "        criterion='entropy', max_depth=8, min_samples_split=4, random_state=42\n",
    "    ),\n",
    "    \n",
    "    'Gradient Boosting': GradientBoostingClassifier(\n",
    "        n_estimators=300, learning_rate=0.05, max_depth=4, subsample=0.8, random_state=42\n",
    "    ),\n",
    "    \n",
    "    'AdaBoost': AdaBoostClassifier(\n",
    "        n_estimators=100, learning_rate=0.1, random_state=42\n",
    "    ),\n",
    "}"
   ]
  },
  {
   "cell_type": "code",
   "execution_count": 243,
   "metadata": {},
   "outputs": [],
   "source": [
    "results=[]"
   ]
  },
  {
   "cell_type": "code",
   "execution_count": 244,
   "metadata": {},
   "outputs": [
    {
     "name": "stdout",
     "output_type": "stream",
     "text": [
      "Random Forest Classifier Accuracy: 50.13%\n",
      "Random Forest Classifier Confusion Matrix:\n",
      "[[279 492]\n",
      " [300 517]]\n",
      "Random Forest Classifier Classification Report:\n",
      "              precision    recall  f1-score   support\n",
      "\n",
      "           0       0.48      0.36      0.41       771\n",
      "           1       0.51      0.63      0.57       817\n",
      "\n",
      "    accuracy                           0.50      1588\n",
      "   macro avg       0.50      0.50      0.49      1588\n",
      "weighted avg       0.50      0.50      0.49      1588\n",
      "\n",
      "\n",
      "\n",
      "\n",
      "Logistic Regression Accuracy: 48.43%\n",
      "Logistic Regression Confusion Matrix:\n",
      "[[287 484]\n",
      " [335 482]]\n",
      "Logistic Regression Classification Report:\n",
      "              precision    recall  f1-score   support\n",
      "\n",
      "           0       0.46      0.37      0.41       771\n",
      "           1       0.50      0.59      0.54       817\n",
      "\n",
      "    accuracy                           0.48      1588\n",
      "   macro avg       0.48      0.48      0.48      1588\n",
      "weighted avg       0.48      0.48      0.48      1588\n",
      "\n",
      "\n",
      "\n",
      "\n",
      "SVM Accuracy: 49.56%\n",
      "SVM Confusion Matrix:\n",
      "[[134 637]\n",
      " [164 653]]\n",
      "SVM Classification Report:\n",
      "              precision    recall  f1-score   support\n",
      "\n",
      "           0       0.45      0.17      0.25       771\n",
      "           1       0.51      0.80      0.62       817\n",
      "\n",
      "    accuracy                           0.50      1588\n",
      "   macro avg       0.48      0.49      0.44      1588\n",
      "weighted avg       0.48      0.50      0.44      1588\n",
      "\n",
      "\n",
      "\n",
      "\n",
      "KNN Accuracy: 52.27%\n",
      "KNN Confusion Matrix:\n",
      "[[362 409]\n",
      " [349 468]]\n",
      "KNN Classification Report:\n",
      "              precision    recall  f1-score   support\n",
      "\n",
      "           0       0.51      0.47      0.49       771\n",
      "           1       0.53      0.57      0.55       817\n",
      "\n",
      "    accuracy                           0.52      1588\n",
      "   macro avg       0.52      0.52      0.52      1588\n",
      "weighted avg       0.52      0.52      0.52      1588\n",
      "\n",
      "\n",
      "\n",
      "\n",
      "Naive Bayes Accuracy: 47.67%\n",
      "Naive Bayes Confusion Matrix:\n",
      "[[338 433]\n",
      " [398 419]]\n",
      "Naive Bayes Classification Report:\n",
      "              precision    recall  f1-score   support\n",
      "\n",
      "           0       0.46      0.44      0.45       771\n",
      "           1       0.49      0.51      0.50       817\n",
      "\n",
      "    accuracy                           0.48      1588\n",
      "   macro avg       0.48      0.48      0.48      1588\n",
      "weighted avg       0.48      0.48      0.48      1588\n",
      "\n",
      "\n",
      "\n",
      "\n",
      "Decision Tree Accuracy: 51.70%\n",
      "Decision Tree Confusion Matrix:\n",
      "[[ 38 733]\n",
      " [ 34 783]]\n",
      "Decision Tree Classification Report:\n",
      "              precision    recall  f1-score   support\n",
      "\n",
      "           0       0.53      0.05      0.09       771\n",
      "           1       0.52      0.96      0.67       817\n",
      "\n",
      "    accuracy                           0.52      1588\n",
      "   macro avg       0.52      0.50      0.38      1588\n",
      "weighted avg       0.52      0.52      0.39      1588\n",
      "\n",
      "\n",
      "\n",
      "\n",
      "Gradient Boosting Accuracy: 48.61%\n",
      "Gradient Boosting Confusion Matrix:\n",
      "[[336 435]\n",
      " [381 436]]\n",
      "Gradient Boosting Classification Report:\n",
      "              precision    recall  f1-score   support\n",
      "\n",
      "           0       0.47      0.44      0.45       771\n",
      "           1       0.50      0.53      0.52       817\n",
      "\n",
      "    accuracy                           0.49      1588\n",
      "   macro avg       0.48      0.48      0.48      1588\n",
      "weighted avg       0.49      0.49      0.49      1588\n",
      "\n",
      "\n",
      "\n",
      "\n"
     ]
    },
    {
     "name": "stderr",
     "output_type": "stream",
     "text": [
      "/Users/ajoy/Library/Python/3.9/lib/python/site-packages/sklearn/ensemble/_weight_boosting.py:519: FutureWarning: The SAMME.R algorithm (the default) is deprecated and will be removed in 1.6. Use the SAMME algorithm to circumvent this warning.\n",
      "  warnings.warn(\n"
     ]
    },
    {
     "name": "stdout",
     "output_type": "stream",
     "text": [
      "AdaBoost Accuracy: 48.17%\n",
      "AdaBoost Confusion Matrix:\n",
      "[[172 599]\n",
      " [224 593]]\n",
      "AdaBoost Classification Report:\n",
      "              precision    recall  f1-score   support\n",
      "\n",
      "           0       0.43      0.22      0.29       771\n",
      "           1       0.50      0.73      0.59       817\n",
      "\n",
      "    accuracy                           0.48      1588\n",
      "   macro avg       0.47      0.47      0.44      1588\n",
      "weighted avg       0.47      0.48      0.45      1588\n",
      "\n",
      "\n",
      "\n",
      "\n"
     ]
    }
   ],
   "source": [
    "for name,clf in classifiers.items():\n",
    "    clf.fit(X_train,y_train)\n",
    "    y_pred = clf.predict(X_test)\n",
    "    accuracy = accuracy_score(y_test,y_pred)\n",
    "    cm_result = confusion_matrix(y_test, y_pred)  \n",
    "    cr_result = classification_report(y_test, y_pred)\n",
    "    print(f'{name} Accuracy: {accuracy * 100:.2f}%')\n",
    "    print(f'{name} Confusion Matrix:\\n{cm_result}')\n",
    "    print(f'{name} Classification Report:\\n{cr_result}')\n",
    "    print(\"\\n\\n\")\n",
    "    results.append({'Model Name':name,'Accuracy Score':accuracy*100})"
   ]
  },
  {
   "cell_type": "code",
   "execution_count": 245,
   "metadata": {},
   "outputs": [
    {
     "data": {
      "text/html": [
       "<div>\n",
       "<style scoped>\n",
       "    .dataframe tbody tr th:only-of-type {\n",
       "        vertical-align: middle;\n",
       "    }\n",
       "\n",
       "    .dataframe tbody tr th {\n",
       "        vertical-align: top;\n",
       "    }\n",
       "\n",
       "    .dataframe thead th {\n",
       "        text-align: right;\n",
       "    }\n",
       "</style>\n",
       "<table border=\"1\" class=\"dataframe\">\n",
       "  <thead>\n",
       "    <tr style=\"text-align: right;\">\n",
       "      <th></th>\n",
       "      <th>Model Name</th>\n",
       "      <th>Accuracy Score</th>\n",
       "    </tr>\n",
       "  </thead>\n",
       "  <tbody>\n",
       "    <tr>\n",
       "      <th>0</th>\n",
       "      <td>Random Forest Classifier</td>\n",
       "      <td>50.125945</td>\n",
       "    </tr>\n",
       "    <tr>\n",
       "      <th>1</th>\n",
       "      <td>Logistic Regression</td>\n",
       "      <td>48.425693</td>\n",
       "    </tr>\n",
       "    <tr>\n",
       "      <th>2</th>\n",
       "      <td>SVM</td>\n",
       "      <td>49.559194</td>\n",
       "    </tr>\n",
       "    <tr>\n",
       "      <th>3</th>\n",
       "      <td>KNN</td>\n",
       "      <td>52.267003</td>\n",
       "    </tr>\n",
       "    <tr>\n",
       "      <th>4</th>\n",
       "      <td>Naive Bayes</td>\n",
       "      <td>47.670025</td>\n",
       "    </tr>\n",
       "    <tr>\n",
       "      <th>5</th>\n",
       "      <td>Decision Tree</td>\n",
       "      <td>51.700252</td>\n",
       "    </tr>\n",
       "    <tr>\n",
       "      <th>6</th>\n",
       "      <td>Gradient Boosting</td>\n",
       "      <td>48.614610</td>\n",
       "    </tr>\n",
       "    <tr>\n",
       "      <th>7</th>\n",
       "      <td>AdaBoost</td>\n",
       "      <td>48.173804</td>\n",
       "    </tr>\n",
       "  </tbody>\n",
       "</table>\n",
       "</div>"
      ],
      "text/plain": [
       "                 Model Name  Accuracy Score\n",
       "0  Random Forest Classifier       50.125945\n",
       "1       Logistic Regression       48.425693\n",
       "2                       SVM       49.559194\n",
       "3                       KNN       52.267003\n",
       "4               Naive Bayes       47.670025\n",
       "5             Decision Tree       51.700252\n",
       "6         Gradient Boosting       48.614610\n",
       "7                  AdaBoost       48.173804"
      ]
     },
     "execution_count": 245,
     "metadata": {},
     "output_type": "execute_result"
    }
   ],
   "source": [
    "models = pd.DataFrame(results)\n",
    "df_unique = models.drop_duplicates(subset=['Model Name'], keep='last')\n",
    "df_unique"
   ]
  },
  {
   "cell_type": "code",
   "execution_count": 246,
   "metadata": {},
   "outputs": [
    {
     "data": {
      "image/png": "[encoded data removed]",
      "text/plain": [
       "<Figure size 1000x600 with 1 Axes>"
      ]
     },
     "metadata": {},
     "output_type": "display_data"
    }
   ],
   "source": [
    "# Plotting the accuracy scores\n",
    "plt.figure(figsize=(10,6))\n",
    "plt.bar(df_unique['Model Name'], df_unique['Accuracy Score'], color='skyblue')\n",
    "plt.xlabel('Model Name')\n",
    "plt.ylabel('Accuracy Score (%)')\n",
    "plt.title('Model Accuracy Comparison')\n",
    "plt.xticks(rotation=45, ha='right')  # Rotate x labels for better visibility\n",
    "plt.show()"
   ]
  },
  {
   "cell_type": "code",
   "execution_count": null,
   "metadata": {},
   "outputs": [],
   "source": []
  }
 ],
 "metadata": {
  "kernelspec": {
   "display_name": "Python 3.9.6 64-bit",
   "language": "python",
   "name": "python3"
  },
  "language_info": {
   "codemirror_mode": {
    "name": "ipython",
    "version": 3
   },
   "file_extension": ".py",
   "mimetype": "text/x-python",
   "name": "python",
   "nbconvert_exporter": "python",
   "pygments_lexer": "ipython3",
   "version": "3.9.6"
  },
  "orig_nbformat": 4,
  "vscode": {
   "interpreter": {
    "hash": "31f2aee4e71d21fbe5cf8b01ff0e069b9275f58929596ceb00d14d90e3e16cd6"
   }
  }
 },
 "nbformat": 4,
 "nbformat_minor": 2
}
